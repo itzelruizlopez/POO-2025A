{
  "nbformat": 4,
  "nbformat_minor": 0,
  "metadata": {
    "colab": {
      "provenance": []
    },
    "kernelspec": {
      "name": "python3",
      "display_name": "Python 3"
    },
    "language_info": {
      "name": "python"
    }
  },
  "cells": [
    {
      "cell_type": "code",
      "source": [
        "class EmpleadoUniversitario:\n",
        "    def __init__(self, nombre, departamento, salario):\n",
        "        self.nombre = nombre\n",
        "        self.departamento = departamento\n",
        "        self.salario = salario\n",
        "\n",
        "    def get_nombre(self):\n",
        "        return self.nombre\n",
        "\n",
        "    def get_departamento(self):\n",
        "        return self.departamento\n",
        "\n",
        "    def get_salario(self):\n",
        "        return self.salario\n",
        "\n",
        "    def set_nombre(self, nuevo_nombre):\n",
        "        self.nombre = nuevo_nombre\n",
        "\n",
        "    def set_departamento(self, nuevo_departamento):\n",
        "        self.departamento = nuevo_departamento\n",
        "\n",
        "    def set_salario(self, nuevo_salario):\n",
        "        if nuevo_salario < 0:\n",
        "            print(\"Error: El salario no puede ser negativo.\")\n",
        "        else:\n",
        "            self.salario = nuevo_salario\n",
        "\n",
        "\n",
        "empleado = EmpleadoUniversitario(\"Liliana Vazquez\", \"Recursos Humanos\", 10000)\n",
        "\n",
        "\n",
        "print(\"Nombre:\", empleado.get_nombre())\n",
        "print(\"Departamento:\", empleado.get_departamento())\n",
        "print(\"Salario:\", empleado.get_salario())\n",
        "\n",
        "\n",
        "empleado.set_nombre(\"Liliana Vazquez\")\n",
        "empleado.set_departamento(\"Finanzas\")\n",
        "empleado.set_salario(17000)\n",
        "\n",
        "print(\"\\nDespués de actualizar los datos:\")\n",
        "print(\"Nombre:\", empleado.get_nombre())\n",
        "print(\"Departamento:\", empleado.get_departamento())\n",
        "print(\"Salario:\", empleado.get_salario())\n",
        "\n",
        "\n",
        "empleado.set_salario(-2000)\n"
      ],
      "metadata": {
        "colab": {
          "base_uri": "https://localhost:8080/"
        },
        "id": "-2QCYCcp1OHd",
        "outputId": "d9663829-1fc8-456a-a6a4-9156e147b541"
      },
      "execution_count": null,
      "outputs": [
        {
          "output_type": "stream",
          "name": "stdout",
          "text": [
            "Nombre: Liliana Vazquez\n",
            "Departamento: Recursos Humanos\n",
            "Salario: 10000\n",
            "\n",
            "Después de actualizar los datos:\n",
            "Nombre: Liliana Vazquez\n",
            "Departamento: Finanzas\n",
            "Salario: 17000\n",
            "Error: El salario no puede ser negativo.\n"
          ]
        }
      ]
    },
    {
      "cell_type": "code",
      "source": [
        "class EmpleadoUniversitario:\n",
        "    def __init__(self, nombre, departamento, salario, foto):\n",
        "        self._nombre = nombre\n",
        "        self._departamento = departamento\n",
        "        self._salario = salario\n",
        "        self._foto = foto\n",
        "\n",
        "    @property\n",
        "    def nombre(self):\n",
        "        return self._nombre\n",
        "\n",
        "    @nombre.setter\n",
        "    def nombre(self, nuevo_nombre):\n",
        "        self._nombre = nuevo_nombre\n",
        "\n",
        "    @property\n",
        "    def departamento(self):\n",
        "        return self._departamento\n",
        "\n",
        "    @departamento.setter\n",
        "    def departamento(self, nuevo_departamento):\n",
        "        self._departamento = nuevo_departamento\n",
        "\n",
        "    @property\n",
        "    def salario(self):\n",
        "        return self._salario\n",
        "\n",
        "    @salario.setter\n",
        "    def salario(self, nuevo_salario):\n",
        "        if nuevo_salario < 0:\n",
        "            print(\"Error: El salario no puede ser negativo.\")\n",
        "        else:\n",
        "            self._salario = nuevo_salario\n",
        "\n",
        "    @property\n",
        "    def foto(self):\n",
        "        return self._foto\n",
        "\n",
        "    @foto.setter\n",
        "    def foto(self, nueva_foto):\n",
        "        self._foto = nueva_foto\n",
        "\n",
        "# datos iniciales\n",
        "empleado = EmpleadoUniversitario(\"Itzel Ruiz Lopez\", \"Recursos Humanos\", 12000, \"https://www.rockarchive.com/media/4800/bjork-bj009jf.jpg?anchor=center&mode=crop&width=800&height=800&rnd=133442085980000000&overlay=watermark.png&overlay.size=230,20&overlay.position=0,780\")\n",
        "\n",
        "# Mostrar la información\n",
        "print(\"Nombre:\", empleado.nombre)\n",
        "print(\"Departamento:\", empleado.departamento)\n",
        "print(\"Salario:\", empleado.salario)\n",
        "print(\"Foto:\", empleado.foto)\n",
        "\n",
        "# Modificar algunos atributos\n",
        "empleado.nombre = \"Itzel Ruiz López\"\n",
        "empleado.departamento = \"Finanzas\"\n",
        "empleado.salario = 25000\n",
        "empleado.foto = '/content/bjork.jpg'\n",
        "\n",
        "print(\"\\nDespués de actualizar los datos:\")\n",
        "print(\"Nombre:\", empleado.nombre)\n",
        "print(\"Departamento:\", empleado.departamento)\n",
        "print(\"Salario:\", empleado.salario)\n",
        "print(\"Foto:\", empleado.foto)\n",
        "\n",
        "#  mensaje de error\n",
        "empleado.salario = -1000\n"
      ],
      "metadata": {
        "colab": {
          "base_uri": "https://localhost:8080/"
        },
        "id": "ul4fgTZf3Qvl",
        "outputId": "541edee2-959a-441e-fd16-d68f3bdbfdf7"
      },
      "execution_count": null,
      "outputs": [
        {
          "output_type": "stream",
          "name": "stdout",
          "text": [
            "Nombre: Itzel Ruiz Lopez\n",
            "Departamento: Recursos Humanos\n",
            "Salario: 12000\n",
            "Foto: https://www.rockarchive.com/media/4800/bjork-bj009jf.jpg?anchor=center&mode=crop&width=800&height=800&rnd=133442085980000000&overlay=watermark.png&overlay.size=230,20&overlay.position=0,780\n",
            "\n",
            "Después de actualizar los datos:\n",
            "Nombre: Itzel Ruiz López\n",
            "Departamento: Finanzas\n",
            "Salario: 25000\n",
            "Foto: /content/bjork.jpg\n",
            "Error: El salario no puede ser negativo.\n"
          ]
        }
      ]
    }
  ]
}