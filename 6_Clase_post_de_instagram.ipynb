{
  "nbformat": 4,
  "nbformat_minor": 0,
  "metadata": {
    "colab": {
      "provenance": []
    },
    "kernelspec": {
      "name": "python3",
      "display_name": "Python 3"
    },
    "language_info": {
      "name": "python"
    }
  },
  "cells": [
    {
      "cell_type": "code",
      "execution_count": null,
      "metadata": {
        "colab": {
          "base_uri": "https://localhost:8080/"
        },
        "id": "uZj9xsP2_Pz9",
        "outputId": "b1adb400-c10b-4b3a-b62c-9dfc1c5744ad"
      },
      "outputs": [
        {
          "output_type": "stream",
          "name": "stdout",
          "text": [
            "Título: Mi primer post\n",
            "Fecha: 2025-03-06\n",
            "Etiquetas: ['python', 'programación']\n",
            "Ubicación: Guadalajara, Jalisco\n",
            "Comentarios: ['¡Gran post!']\n",
            "Likes: 1\n",
            "Compartidos: 1\n"
          ]
        }
      ],
      "source": [
        "# clase padre\n",
        "class Publicacion:\n",
        "    def __init__(self, titulo, fecha, etiquetas, ubicacion):\n",
        "        self.titulo = titulo\n",
        "        self.fecha = fecha\n",
        "        self.etiquetas = etiquetas\n",
        "        self.ubicacion = ubicacion\n",
        "\n",
        "# clase derivada\n",
        "class PublicacionConInteracciones(Publicacion):\n",
        "    def __init__(self, titulo, fecha, etiquetas, ubicacion):\n",
        "        super().__init__(titulo, fecha, etiquetas, ubicacion)\n",
        "        self.comentarios = []\n",
        "        self.likes = 0\n",
        "        self.compartidos = 0\n",
        "\n",
        "    def agregar_comentario(self, comentario):\n",
        "        self.comentarios.append(comentario)\n",
        "\n",
        "    def dar_like(self):\n",
        "        self.likes += 1\n",
        "\n",
        "    def compartir(self):\n",
        "        self.compartidos += 1\n",
        "\n",
        "    def mostrar_interacciones(self):\n",
        "        print(f\"Título: {self.titulo}\")\n",
        "        print(f\"Fecha: {self.fecha}\")\n",
        "        print(f\"Etiquetas: {self.etiquetas}\")\n",
        "        print(f\"Ubicación: {self.ubicacion}\")\n",
        "        print(f\"Comentarios: {self.comentarios}\")\n",
        "        print(f\"Likes: {self.likes}\")\n",
        "        print(f\"Compartidos: {self.compartidos}\")\n",
        "\n",
        "# Ejemplo\n",
        "publicacion = PublicacionConInteracciones(\"Mi primer post\", \"2025-03-06\", [\"python\", \"programación\"], \"Guadalajara, Jalisco\")\n",
        "publicacion.agregar_comentario(\"¡Gran post!\")\n",
        "publicacion.dar_like()\n",
        "publicacion.compartir()\n",
        "publicacion.mostrar_interacciones()\n"
      ]
    }
  ]
}