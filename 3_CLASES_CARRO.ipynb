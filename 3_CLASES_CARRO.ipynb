{
  "nbformat": 4,
  "nbformat_minor": 0,
  "metadata": {
    "colab": {
      "provenance": []
    },
    "kernelspec": {
      "name": "python3",
      "display_name": "Python 3"
    },
    "language_info": {
      "name": "python"
    }
  },
  "cells": [
    {
      "cell_type": "code",
      "execution_count": null,
      "metadata": {
        "colab": {
          "base_uri": "https://localhost:8080/"
        },
        "id": "80ZqzUpc-FWQ",
        "outputId": "dee9ccb7-60cc-4a26-ec85-00634bd48a0f"
      },
      "outputs": [
        {
          "output_type": "stream",
          "name": "stdout",
          "text": [
            "Ford Mustang, Año: 1965, Color: Azul\n",
            "2025-05-07\n"
          ]
        }
      ],
      "source": [
        "from datetime import date\n",
        "\n",
        "class Auto:\n",
        "    def __init__(self, marca, modelo, año, color):\n",
        "        self.marca = marca\n",
        "        self.modelo = modelo\n",
        "        self.año = año\n",
        "        self.color = color\n",
        "\n",
        "    def get_info(self):\n",
        "        return f\"{self.marca} {self.modelo}, Año: {self.año}, Color: {self.color}\"\n",
        "\n",
        "    def ultima_verificación(self):\n",
        "        print(date.today())\n",
        "\n",
        "\n",
        "my_car = Auto(\"Ford\", \"Mustang\", 1965, \"Azul\")\n",
        "\n",
        "print(my_car.get_info())\n",
        "my_car.ultima_verificación()"
      ]
    }
  ]
}