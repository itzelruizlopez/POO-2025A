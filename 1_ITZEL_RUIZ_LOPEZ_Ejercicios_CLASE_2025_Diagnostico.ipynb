{
  "nbformat": 4,
  "nbformat_minor": 0,
  "metadata": {
    "colab": {
      "provenance": []
    },
    "kernelspec": {
      "name": "python3",
      "display_name": "Python 3"
    },
    "language_info": {
      "name": "python"
    }
  },
  "cells": [
    {
      "cell_type": "markdown",
      "source": [
        "\n",
        "\n",
        "---\n",
        "\n",
        "## **Ejercicios de Python 3**  \n",
        "\n",
        "\n",
        "\n",
        "---\n",
        "\n",
        "### **1. Suma de Pares en una Lista **  \n",
        "#### **Problema**  \n",
        "Dada una lista de números enteros, encuentra todas las combinaciones de dos números cuya suma sea un valor objetivo.  \n",
        "\n",
        "#### **Ejemplo**  \n",
        "```python\n",
        "print(encontrar_pares([1, 2, 3, 4, 5, 6], 7))  \n",
        "# [(1, 6), (2, 5), (3, 4)]\n",
        "```\n",
        "\n",
        "\n",
        "\n",
        "---\n",
        "\n",
        "### **2. Conteo de Caracteres Frecuentes **  \n",
        "#### **Problema**  \n",
        "Dada una cadena de texto, encuentra el carácter que más veces se repite e indica cuántas veces aparece.  \n",
        "\n",
        "#### **Ejemplo**  \n",
        "```python\n",
        "print(caracter_mas_frecuente(\"banana\"))  \n",
        "# ('a', 3)\n",
        "```\n",
        "\n",
        "#### **Aspectos a Evaluar**  \n",
        "  \n",
        "\n",
        "---\n",
        "\n",
        "### **3. Verificación de Sudoku Válido **  \n",
        "#### **Problema**  \n",
        "Dada una cuadrícula de Sudoku de 9x9, verifica si es válida (cumple con las reglas de filas, columnas y subcuadrículas de 3x3).  \n",
        "\n",
        "#### **Ejemplo**  \n",
        "```python\n",
        "print(validar_sudoku(tablero))  # True o False\n",
        "```\n",
        "\n",
        "\n",
        "\n",
        "---\n",
        "\n",
        "### **4. Números Primos en un Rango **  \n",
        "#### **Problema**  \n",
        "Escribe una función que reciba dos números `a` y `b` y devuelva una lista de todos los números primos en ese rango.  \n",
        "\n",
        "#### **Ejemplo**  \n",
        "```python\n",
        "print(numeros_primos(10, 30))  \n",
        "# [11, 13, 17, 19, 23, 29]\n",
        "```\n",
        "\n",
        "\n",
        "\n",
        "---\n",
        "\n",
        "### **5. Longitud de la Secuencia de Collatz **  \n",
        "#### **Problema**  \n",
        "La secuencia de Collatz se define así:  \n",
        "1. Si el número es par, se divide por 2.  \n",
        "2. Si es impar, se multiplica por 3 y se suma 1.  \n",
        "3. Se repite el proceso hasta llegar a 1.  \n",
        "\n",
        "Escribe una función que determine cuántos pasos toma un número `n` para llegar a 1.  \n",
        "\n",
        "#### **Ejemplo**  \n",
        "```python\n",
        "print(longitud_collatz(12))  \n",
        "# 9\n",
        "```\n",
        "\n",
        "\n",
        "\n",
        "\n",
        "---\n"
      ],
      "metadata": {
        "id": "3mseMKx2azuk"
      }
    },
    {
      "cell_type": "markdown",
      "source": [
        "# Sección nueva"
      ],
      "metadata": {
        "id": "0iiuWngDJHib"
      }
    },
    {
      "cell_type": "code",
      "source": [
        "#Ejercicio 1\n",
        "print(encontrar_trios([1, 2, 3, 4, 5, 6, 7, 8, 9, 17], 13))\n",
        "\n"
      ],
      "metadata": {
        "colab": {
          "base_uri": "https://localhost:8080/"
        },
        "id": "XmqV3roP4R1G",
        "outputId": "e3ba8a4c-33ae-4203-a9e8-3b2cb64b64f0"
      },
      "execution_count": null,
      "outputs": [
        {
          "output_type": "stream",
          "name": "stdout",
          "text": [
            "[(1, 3, 9), (1, 4, 8), (1, 5, 7), (2, 3, 8), (2, 4, 7), (2, 5, 6), (3, 4, 6)]\n"
          ]
        }
      ]
    },
    {
      "cell_type": "code",
      "source": [
        "#Ejercicio 2\n",
        "\n",
        "def caracter_mas_frecuente(cadena):\n",
        "    frecuencias = {}\n",
        "    for char in cadena:\n",
        "        if char in frecuencias:\n",
        "            frecuencias[char] += 1\n",
        "        else:\n",
        "            frecuencias[char] = 1\n",
        "    max_caracter = max(frecuencias, key=frecuencias.get)\n",
        "    max_frecuencia = frecuencias[max_caracter]\n",
        "    return (max_caracter, max_frecuencia)\n",
        "\n",
        "print(caracter_mas_frecuente(\"telequinesis\"))\n"
      ],
      "metadata": {
        "colab": {
          "base_uri": "https://localhost:8080/"
        },
        "id": "8I2MMAlR_i3A",
        "outputId": "eaec07fe-fc63-4ef7-d96d-96763f79b4c3"
      },
      "execution_count": null,
      "outputs": [
        {
          "output_type": "stream",
          "name": "stdout",
          "text": [
            "('e', 3)\n"
          ]
        }
      ]
    },
    {
      "cell_type": "code",
      "source": [
        "#Ejercicio 3\n",
        "def es_valido_sudoku(tablero):\n",
        "    def es_valida(lista):\n",
        "        numeros = [num for num in lista if num != '.']\n",
        "        return len(numeros) == len(set(numeros))\n",
        "\n",
        "    for i in range(9):\n",
        "        if not es_valida(tablero[i]) or not es_valida([tablero[j][i] for j in range(9)]):\n",
        "            return False\n",
        "\n",
        "    for i in range(0, 9, 3):\n",
        "        for j in range(0, 9, 3):\n",
        "            subcuadricula = [tablero[x][y] for x in range(i, i+3) for y in range(j, j+3)]\n",
        "            if not es_valida(subcuadricula):\n",
        "                return False\n",
        "\n",
        "    return True\n",
        "\n",
        "tablero = [\n",
        "    ['5', '3', '.', '.', '7', '.', '.', '.', '.'],\n",
        "    ['6', '.', '.', '1', '9', '5', '.', '.', '.'],\n",
        "    ['.', '9', '8', '.', '.', '.', '.', '6', '.'],\n",
        "    ['8', '.', '.', '.', '6', '.', '.', '.', '3'],\n",
        "    ['4', '.', '.', '8', '.', '3', '.', '.', '1'],\n",
        "    ['7', '.', '.', '.', '2', '.', '.', '.', '6'],\n",
        "    ['.', '6', '.', '.', '.', '.', '2', '8', '.'],\n",
        "    ['.', '.', '.', '4', '1', '9', '.', '.', '5'],\n",
        "    ['.', '.', '.', '.', '8', '.', '.', '7', '9']\n",
        "]\n",
        "print(es_valido_sudoku(tablero))\n"
      ],
      "metadata": {
        "colab": {
          "base_uri": "https://localhost:8080/"
        },
        "id": "JVGjBWM6GOdC",
        "outputId": "9e3425b8-289e-4afa-9e36-98297a6f2f17"
      },
      "execution_count": null,
      "outputs": [
        {
          "output_type": "stream",
          "name": "stdout",
          "text": [
            "True\n"
          ]
        }
      ]
    },
    {
      "cell_type": "code",
      "source": [
        "#Ejercicio 4\n",
        "def es_primo(n):\n",
        "    if n <= 1:\n",
        "        return False\n",
        "    if n == 2:\n",
        "        return True\n",
        "    if n % 2 == 0:\n",
        "        return False\n",
        "    for i in range(3, int(n**0.5) + 1, 2):\n",
        "        if n % i == 0:\n",
        "            return False\n",
        "    return True\n",
        "\n",
        "def numeros_primos(a, b):\n",
        "    return [num for num in range(a, b + 1) if es_primo(num)]\n",
        "\n",
        "print(numeros_primos(777, 888))"
      ],
      "metadata": {
        "colab": {
          "base_uri": "https://localhost:8080/"
        },
        "id": "yxWCzO57G_bP",
        "outputId": "d17d0a39-b29e-4e00-b756-52eb605c2815"
      },
      "execution_count": null,
      "outputs": [
        {
          "output_type": "stream",
          "name": "stdout",
          "text": [
            "[787, 797, 809, 811, 821, 823, 827, 829, 839, 853, 857, 859, 863, 877, 881, 883, 887]\n"
          ]
        }
      ]
    },
    {
      "cell_type": "code",
      "source": [
        "#Ejercicio 5\n",
        "def longitud_collatz(n):\n",
        "    pasos = 0\n",
        "    while n != 1:\n",
        "        if n % 2 == 0:\n",
        "            n = n // 2\n",
        "        else:\n",
        "            n = 3 * n + 1\n",
        "        pasos += 1\n",
        "    return pasos\n",
        "\n",
        "print(longitud_collatz(111))"
      ],
      "metadata": {
        "colab": {
          "base_uri": "https://localhost:8080/"
        },
        "id": "xTsL1JN0I1wH",
        "outputId": "2b44cbca-4819-4434-ef06-9a438f2de382"
      },
      "execution_count": null,
      "outputs": [
        {
          "output_type": "stream",
          "name": "stdout",
          "text": [
            "69\n"
          ]
        }
      ]
    }
  ]
}